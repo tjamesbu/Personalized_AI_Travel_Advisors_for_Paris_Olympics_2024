{
 "cells": [
  {
   "cell_type": "code",
   "execution_count": 1,
   "id": "8e672521-674b-405e-aed5-6fa5990173b9",
   "metadata": {},
   "outputs": [],
   "source": [
    "# Created by Vivien S. for Omdena Paris AI Travel Advisor task 1"
   ]
  },
  {
   "cell_type": "code",
   "execution_count": 2,
   "id": "2f0a031e-8e38-45ac-a57d-72793384b6d6",
   "metadata": {},
   "outputs": [],
   "source": [
    "import requests\n",
    "from bs4 import BeautifulSoup\n",
    "import pandas as pd\n",
    "import re\n",
    "import os\n",
    "import json\n",
    "from unstructured.partition.html import partition_html\n",
    "from unstructured.staging.base import elements_to_json\n",
    "\n",
    "# Warning control\n",
    "import warnings\n",
    "warnings.filterwarnings('ignore')"
   ]
  },
  {
   "cell_type": "code",
   "execution_count": 6,
   "id": "6988e452-38a2-4421-be43-53e4ec41dcc7",
   "metadata": {},
   "outputs": [],
   "source": [
    "websites = { \n",
    "        \"touristpass\" : \"https://about-france.com/compare-paris-passes.htm#Compare\",\n",
    "        \"paris_passlib\": \"https://parisjetaime.com/eng/article/paris-passlib-a978\",\n",
    "    }\n",
    "name = \"VivienS\""
   ]
  },
  {
   "cell_type": "code",
   "execution_count": 8,
   "id": "bdab92e4-7835-452f-9776-ae5d7b5c8924",
   "metadata": {},
   "outputs": [
    {
     "name": "stdout",
     "output_type": "stream",
     "text": [
      "https://parisjetaime.com/eng/article/paris-passlib-a978\n",
      "Request successful: True. Status code: 200\n"
     ]
    }
   ],
   "source": [
    "for filename,url in websites.items():\n",
    "    if not os.path.isfile(f\"{filename}.html\"):\n",
    "        r = requests.get(url, headers={'User-Agent': 'Mozilla/5.0'})\n",
    "        # cross-check status code if the url request is successful\n",
    "        print(url)\n",
    "        print(\"Request successful: {}. Status code: {}\".format(r.status_code == 200, r.status_code))\n",
    "        if r.status_code == 200:\n",
    "            soup = BeautifulSoup(r.content, 'html.parser')        \n",
    "            f = open(f\"{filename}.html\", \"w\")\n",
    "            f.write(str(soup))\n",
    "            f.close()\n",
    "    if not os.path.isfile(f\"{filename}.json\"):\n",
    "        elements = partition_html(filename=f\"{filename}.html\")\n",
    "        elements_to_json(elements, filename=f\"{filename}_{}.json\")"
   ]
  }
 ],
 "metadata": {
  "kernelspec": {
   "display_name": "Python 3 (ipykernel)",
   "language": "python",
   "name": "python3"
  },
  "language_info": {
   "codemirror_mode": {
    "name": "ipython",
    "version": 3
   },
   "file_extension": ".py",
   "mimetype": "text/x-python",
   "name": "python",
   "nbconvert_exporter": "python",
   "pygments_lexer": "ipython3",
   "version": "3.12.2"
  }
 },
 "nbformat": 4,
 "nbformat_minor": 5
}
