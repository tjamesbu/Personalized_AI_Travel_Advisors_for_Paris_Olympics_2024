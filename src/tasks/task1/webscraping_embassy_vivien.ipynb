{
 "cells": [
  {
   "cell_type": "code",
   "execution_count": 1,
   "id": "89e88287-9ce1-4036-b151-572fb57eb9c5",
   "metadata": {},
   "outputs": [],
   "source": [
    "# Created by Vivien S. for Omdena Paris AI Travel Advisor task 1"
   ]
  },
  {
   "cell_type": "code",
   "execution_count": 1,
   "id": "280849b4-f8e5-470c-a8a8-c7d95d867fc0",
   "metadata": {},
   "outputs": [],
   "source": [
    "import requests\n",
    "from bs4 import BeautifulSoup\n",
    "import pandas as pd\n",
    "import re"
   ]
  },
  {
   "cell_type": "code",
   "execution_count": 2,
   "id": "19bc9322-261b-4f1c-9501-ee9174abae33",
   "metadata": {},
   "outputs": [],
   "source": [
    "url = \"https://embassies.net/france/paris\"\n",
    "link = \"https://embassies.net\""
   ]
  },
  {
   "cell_type": "code",
   "execution_count": 3,
   "id": "844a7a15-4875-48a5-b026-d0b42c7919bd",
   "metadata": {},
   "outputs": [
    {
     "name": "stdout",
     "output_type": "stream",
     "text": [
      "Request successful: True \n"
     ]
    }
   ],
   "source": [
    "r = requests.get(url)\n",
    "# cross-check status code if the url request is successful\n",
    "print(\"Request successful: {} \".format(r.status_code == 200))"
   ]
  },
  {
   "cell_type": "code",
   "execution_count": 4,
   "id": "828dfc69-e31f-4752-9380-7715ea178c07",
   "metadata": {},
   "outputs": [],
   "source": [
    "soup = BeautifulSoup(r.content, 'html.parser')"
   ]
  },
  {
   "cell_type": "code",
   "execution_count": 5,
   "id": "9267b808-f298-4549-b4d6-b1e1c4617bbb",
   "metadata": {},
   "outputs": [
    {
     "name": "stdout",
     "output_type": "stream",
     "text": [
      "Total num. of tables with embassy info:  8\n"
     ]
    }
   ],
   "source": [
    "# inspect element at url and extract all tables containing embassies\n",
    "tables = soup.find_all(\"table\", class_=\"tb1\")\n",
    "print(\"Total num. of tables with embassy info: \", len(tables))"
   ]
  },
  {
   "cell_type": "code",
   "execution_count": 75,
   "id": "9e440541-cee4-488e-bde8-12f23839594b",
   "metadata": {},
   "outputs": [],
   "source": [
    "def parseCols(cols):       \n",
    "    webpage = []\n",
    "    country = []\n",
    "    missionType = []\n",
    "    phone = []\n",
    "    for c in cols:\n",
    "        if c.find(\"a\"):\n",
    "            webpage.append(link + c.find(\"a\")[\"href\"])\n",
    "            country.append(c.text)\n",
    "        elif re.match(r'[\\d]', re.sub(r'[^0-9]', '', c.text)):\n",
    "            phone.append(re.sub(r'[^a-zA-Z0-9 \\n]', '', c.text))\n",
    "        else:\n",
    "            missionType.append(c.text)\n",
    "    return webpage, country, missionType, phone\n"
   ]
  },
  {
   "cell_type": "code",
   "execution_count": 77,
   "id": "ab0e409e-6762-4dd5-9610-49d835f15ca0",
   "metadata": {},
   "outputs": [
    {
     "name": "stdout",
     "output_type": "stream",
     "text": [
      "50 50 50 50\n",
      "79 79 79 79\n",
      "92 92 92 92\n",
      "144 144 144 144\n",
      "156 156 156 156\n",
      "159 159 159 159\n",
      "162 162 162 162\n",
      "175 175 175 175\n"
     ]
    }
   ],
   "source": [
    "list_webpage = []\n",
    "list_country = []\n",
    "list_missionType = []\n",
    "list_phone = []\n",
    "\n",
    "for table in tables:\n",
    "    webpage, country, missionType, phone = parseCols(table.find_all(\"td\"))\n",
    "    list_webpage += webpage\n",
    "    list_country += country\n",
    "    list_missionType += missionType\n",
    "    list_phone += phone\n",
    "    # print(len(list_webpage),len(list_country),len(list_missionType), len(list_phone))"
   ]
  },
  {
   "cell_type": "code",
   "execution_count": 78,
   "id": "bfaaa85d-0d3a-4bf7-bf65-6d3d3875f217",
   "metadata": {},
   "outputs": [],
   "source": [
    "data = { \"embassy_webpages\": list_webpage,\n",
    "        \"country\": list_country,\n",
    "        \"diplomatic_mission_type\": list_missionType,\n",
    "        \"phone\": list_phone    \n",
    "}\n",
    "df = pd.DataFrame(data)"
   ]
  },
  {
   "cell_type": "code",
   "execution_count": 82,
   "id": "6a055e0e-76e6-443a-abd3-bdba5cd450f6",
   "metadata": {},
   "outputs": [
    {
     "data": {
      "text/html": [
       "<div>\n",
       "<style scoped>\n",
       "    .dataframe tbody tr th:only-of-type {\n",
       "        vertical-align: middle;\n",
       "    }\n",
       "\n",
       "    .dataframe tbody tr th {\n",
       "        vertical-align: top;\n",
       "    }\n",
       "\n",
       "    .dataframe thead th {\n",
       "        text-align: right;\n",
       "    }\n",
       "</style>\n",
       "<table border=\"1\" class=\"dataframe\">\n",
       "  <thead>\n",
       "    <tr style=\"text-align: right;\">\n",
       "      <th></th>\n",
       "      <th>embassy_webpages</th>\n",
       "      <th>country</th>\n",
       "      <th>diplomatic_mission_type</th>\n",
       "      <th>phone</th>\n",
       "    </tr>\n",
       "  </thead>\n",
       "  <tbody>\n",
       "    <tr>\n",
       "      <th>170</th>\n",
       "      <td>https://embassies.net/peru-in-france/paris</td>\n",
       "      <td>Peru</td>\n",
       "      <td>Permanent Representation</td>\n",
       "      <td>331 4568 2931 and 33 1 4568 2937</td>\n",
       "    </tr>\n",
       "    <tr>\n",
       "      <th>171</th>\n",
       "      <td>https://embassies.net/peru-in-france/paris</td>\n",
       "      <td>Peru</td>\n",
       "      <td>Consulate General</td>\n",
       "      <td>33 1 4265 2510 and 33 1 4265 4940 and 33 1 426...</td>\n",
       "    </tr>\n",
       "    <tr>\n",
       "      <th>172</th>\n",
       "      <td>https://embassies.net/peru-in-france/paris</td>\n",
       "      <td>Peru</td>\n",
       "      <td>Embassy</td>\n",
       "      <td>33 1 5370 4200</td>\n",
       "    </tr>\n",
       "    <tr>\n",
       "      <th>173</th>\n",
       "      <td>https://embassies.net/uruguay-in-france/paris</td>\n",
       "      <td>Uruguay</td>\n",
       "      <td>Embassy</td>\n",
       "      <td>33 1 45 00 81 37</td>\n",
       "    </tr>\n",
       "    <tr>\n",
       "      <th>174</th>\n",
       "      <td>https://embassies.net/venezuela-in-france/paris</td>\n",
       "      <td>Venezuela</td>\n",
       "      <td>Embassy</td>\n",
       "      <td>33 1 45 53 29 98</td>\n",
       "    </tr>\n",
       "  </tbody>\n",
       "</table>\n",
       "</div>"
      ],
      "text/plain": [
       "                                    embassy_webpages     country  \\\n",
       "170       https://embassies.net/peru-in-france/paris        Peru   \n",
       "171       https://embassies.net/peru-in-france/paris        Peru   \n",
       "172       https://embassies.net/peru-in-france/paris        Peru   \n",
       "173    https://embassies.net/uruguay-in-france/paris     Uruguay   \n",
       "174  https://embassies.net/venezuela-in-france/paris   Venezuela   \n",
       "\n",
       "      diplomatic_mission_type  \\\n",
       "170  Permanent Representation   \n",
       "171         Consulate General   \n",
       "172                   Embassy   \n",
       "173                   Embassy   \n",
       "174                   Embassy   \n",
       "\n",
       "                                                 phone  \n",
       "170                   331 4568 2931 and 33 1 4568 2937  \n",
       "171  33 1 4265 2510 and 33 1 4265 4940 and 33 1 426...  \n",
       "172                                     33 1 5370 4200  \n",
       "173                                   33 1 45 00 81 37  \n",
       "174                                   33 1 45 53 29 98  "
      ]
     },
     "execution_count": 82,
     "metadata": {},
     "output_type": "execute_result"
    }
   ],
   "source": [
    "df.tail()"
   ]
  },
  {
   "cell_type": "code",
   "execution_count": 83,
   "id": "e8a165b8-7a7d-4c1b-abac-33d5013bd98f",
   "metadata": {},
   "outputs": [],
   "source": [
    "df.to_csv(\"paris_embassies_website_phone.csv\", index=False)"
   ]
  },
  {
   "cell_type": "code",
   "execution_count": 84,
   "id": "d4e1bcf3-e5e5-4e24-af50-53e9875268d3",
   "metadata": {},
   "outputs": [
    {
     "data": {
      "text/html": [
       "<div>\n",
       "<style scoped>\n",
       "    .dataframe tbody tr th:only-of-type {\n",
       "        vertical-align: middle;\n",
       "    }\n",
       "\n",
       "    .dataframe tbody tr th {\n",
       "        vertical-align: top;\n",
       "    }\n",
       "\n",
       "    .dataframe thead th {\n",
       "        text-align: right;\n",
       "    }\n",
       "</style>\n",
       "<table border=\"1\" class=\"dataframe\">\n",
       "  <thead>\n",
       "    <tr style=\"text-align: right;\">\n",
       "      <th></th>\n",
       "      <th>embassy_webpages</th>\n",
       "      <th>country</th>\n",
       "      <th>diplomatic_mission_type</th>\n",
       "      <th>phone</th>\n",
       "    </tr>\n",
       "  </thead>\n",
       "  <tbody>\n",
       "    <tr>\n",
       "      <th>0</th>\n",
       "      <td>https://embassies.net/algeria-in-france/paris</td>\n",
       "      <td>Algeria</td>\n",
       "      <td>Embassy</td>\n",
       "      <td>33 1 53932020</td>\n",
       "    </tr>\n",
       "    <tr>\n",
       "      <th>1</th>\n",
       "      <td>https://embassies.net/angola-in-france/paris</td>\n",
       "      <td>Angola</td>\n",
       "      <td>Embassy</td>\n",
       "      <td>33 1 4501 5820</td>\n",
       "    </tr>\n",
       "    <tr>\n",
       "      <th>2</th>\n",
       "      <td>https://embassies.net/benin-in-france/paris</td>\n",
       "      <td>Benin</td>\n",
       "      <td>Embassy</td>\n",
       "      <td>33 1 45009882</td>\n",
       "    </tr>\n",
       "    <tr>\n",
       "      <th>3</th>\n",
       "      <td>https://embassies.net/botswana-in-france/paris</td>\n",
       "      <td>Botswana</td>\n",
       "      <td>Consulate General</td>\n",
       "      <td>33 1 47200823</td>\n",
       "    </tr>\n",
       "    <tr>\n",
       "      <th>4</th>\n",
       "      <td>https://embassies.net/burkina-faso-in-france/p...</td>\n",
       "      <td>Burkina Faso</td>\n",
       "      <td>Embassy</td>\n",
       "      <td>33 1 43 59 90 63</td>\n",
       "    </tr>\n",
       "  </tbody>\n",
       "</table>\n",
       "</div>"
      ],
      "text/plain": [
       "                                    embassy_webpages        country  \\\n",
       "0      https://embassies.net/algeria-in-france/paris        Algeria   \n",
       "1       https://embassies.net/angola-in-france/paris         Angola   \n",
       "2        https://embassies.net/benin-in-france/paris          Benin   \n",
       "3     https://embassies.net/botswana-in-france/paris       Botswana   \n",
       "4  https://embassies.net/burkina-faso-in-france/p...   Burkina Faso   \n",
       "\n",
       "  diplomatic_mission_type             phone  \n",
       "0                 Embassy     33 1 53932020  \n",
       "1                 Embassy    33 1 4501 5820  \n",
       "2                 Embassy     33 1 45009882  \n",
       "3       Consulate General     33 1 47200823  \n",
       "4                 Embassy  33 1 43 59 90 63  "
      ]
     },
     "execution_count": 84,
     "metadata": {},
     "output_type": "execute_result"
    }
   ],
   "source": [
    "out = pd.read_csv(\"paris_embassies_website_phone.csv\")\n",
    "out.tail()"
   ]
  },
  {
   "cell_type": "code",
   "execution_count": null,
   "id": "5c891e14-3ad5-40c4-9e88-82f19a0c02c8",
   "metadata": {},
   "outputs": [],
   "source": []
  }
 ],
 "metadata": {
  "kernelspec": {
   "display_name": "Python 3 (ipykernel)",
   "language": "python",
   "name": "python3"
  },
  "language_info": {
   "codemirror_mode": {
    "name": "ipython",
    "version": 3
   },
   "file_extension": ".py",
   "mimetype": "text/x-python",
   "name": "python",
   "nbconvert_exporter": "python",
   "pygments_lexer": "ipython3",
   "version": "3.12.2"
  }
 },
 "nbformat": 4,
 "nbformat_minor": 5
}
