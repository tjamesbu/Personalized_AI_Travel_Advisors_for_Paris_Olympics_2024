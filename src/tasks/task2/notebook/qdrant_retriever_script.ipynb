{
 "cells": [
  {
   "attachments": {},
   "cell_type": "markdown",
   "metadata": {},
   "source": [
    "Hosting the qdrant in local machine\n",
    "\n",
    "docker pull qdrant/qdrant\n",
    "docker run -p 6333:6333 -p 6334:6334 \\\n",
    "    -v $(pwd)/qdrant_storage:/qdrant/storage:z \\\n",
    "    qdrant/qdrant\n"
   ]
  },
  {
   "cell_type": "code",
   "execution_count": 3,
   "metadata": {},
   "outputs": [],
   "source": [
    "import qdrant_client\n",
    "from langchain_huggingface.embeddings import HuggingFaceEmbeddings\n",
    "from qdrant_client import QdrantClient\n",
    "from langchain_experimental.text_splitter import SemanticChunker\n",
    "from langchain_community.document_loaders import DirectoryLoader\n",
    "from langchain_qdrant import Qdrant"
   ]
  },
  {
   "cell_type": "code",
   "execution_count": 23,
   "metadata": {},
   "outputs": [
    {
     "name": "stderr",
     "output_type": "stream",
     "text": [
      "/Users/sarathyashu/Desktop/Learnings/workbook/paris_env/lib/python3.9/site-packages/huggingface_hub/file_download.py:1132: FutureWarning: `resume_download` is deprecated and will be removed in version 1.0.0. Downloads always resume when possible. If you want to force a new download, use `force_download=True`.\n",
      "  warnings.warn(\n"
     ]
    }
   ],
   "source": [
    "url = \"http://localhost:6333\"\n",
    "\n",
    "client = QdrantClient(url=url)\n",
    "\n",
    "model_name = \"thenlper/gte-large\"\n",
    "model_kwargs = {'device': 'cpu'}\n",
    "encode_kwargs = {'normalize_embeddings': False}\n",
    "hf = HuggingFaceEmbeddings(\n",
    "    model_name=model_name,\n",
    "    model_kwargs=model_kwargs,\n",
    "    encode_kwargs=encode_kwargs\n",
    ")"
   ]
  },
  {
   "cell_type": "code",
   "execution_count": null,
   "metadata": {},
   "outputs": [],
   "source": [
    "# load files from directory\n",
    "loader = DirectoryLoader('/Users/sarathyashu/Desktop/Learnings/workbook/data', glob=\"**/*.txt\")\n",
    "docs = loader.load()\n",
    "# semantic chunker\n",
    "textsplitter = SemanticChunker(hf)\n",
    "splitted_docs = textsplitter.transform_documents(docs)"
   ]
  },
  {
   "cell_type": "code",
   "execution_count": 30,
   "metadata": {},
   "outputs": [],
   "source": [
    "qdrant = Qdrant.from_documents(documents=splitted_docs, embedding=hf,\n",
    "    url = url,\n",
    "    prefer_grpc=True,\n",
    "    collection_name=\"test_documents\",\n",
    ")"
   ]
  },
  {
   "cell_type": "code",
   "execution_count": 31,
   "metadata": {},
   "outputs": [
    {
     "data": {
      "text/plain": [
       "CountResult(count=26)"
      ]
     },
     "execution_count": 31,
     "metadata": {},
     "output_type": "execute_result"
    }
   ],
   "source": [
    "client.count(collection_name='test_documents')"
   ]
  },
  {
   "cell_type": "code",
   "execution_count": 36,
   "metadata": {},
   "outputs": [],
   "source": [
    "response = qdrant.similarity_search(query='what is state of union', k=5)"
   ]
  },
  {
   "cell_type": "code",
   "execution_count": 37,
   "metadata": {},
   "outputs": [
    {
     "data": {
      "text/plain": [
       "[Document(page_content='We can do this. My fellow Americans—tonight , we have gathered in a sacred space—the citadel of our democracy. In this Capitol, generation after generation, Americans have debated great questions amid great strife, and have done great things. We have fought for freedom, expanded liberty, defeated totalitarianism and terror. And built the strongest, freest, and most prosperous nation the world has ever known. Now is the hour. Our moment of responsibility. Our test of resolve and conscience, of history itself. It is in this moment that our character is formed. Our purpose is found. Our future is forged. Well I know this nation. We will meet the test. To protect freedom and liberty, to expand fairness and opportunity. We will save democracy. As hard as these times have been, I am more optimistic about America today than I have been my whole life. Because I see the future that is within our grasp. Because I know there is simply nothing beyond our capacity. We are the only nation on Earth that has always turned every crisis we have faced into an opportunity. The only nation that can be defined by a single word: possibilities. So on this night, in our 245th year as a nation, I have come to report on the State of the Union. And my report is this: the State of the Union is strong—because you, the American people, are strong. We are stronger today than we were a year ago. And we will be stronger a year from now than we are today. Now is our moment to meet and overcome the challenges of our time. And we will, as one people. One America. The United States of America. May God bless you all. May God protect our troops.', metadata={'source': '/Users/sarathyashu/Desktop/Learnings/workbook/data/state_of_the_union.txt', '_id': 'e3295f42-2bd5-4625-8121-605d118d71d9', '_collection_name': 'test_documents'}),\n",
       " Document(page_content='Madam Speaker, Madam Vice President, our First Lady and Second Gentleman. Members of Congress and the Cabinet. Justices of the Supreme Court.', metadata={'source': '/Users/sarathyashu/Desktop/Learnings/workbook/data/state_of_the_union.txt', '_id': 'f1330223-23cd-472c-9417-6a29ebfce5ba', '_collection_name': 'test_documents'}),\n",
       " Document(page_content='Educate Americans. Grow the workforce. Build the economy from the bottom up and the middle out, not from the top down. Because we know that when the middle class grows, the poor have a ladder up and the wealthy do very well. America used to have the best roads, bridges, and airports on Earth. Now our infrastructure is ranked 13th in the world. We won’t be able to compete for the jobs of the 21st Century if we don’t fix that. That’s why it was so important to pass the Bipartisan Infrastructure Law—the most sweeping investment to rebuild America in history. This was a bipartisan effort, and I want to thank the members of both parties who worked to make it happen. We’re done talking about infrastructure weeks. We’re going to have an infrastructure decade. It is going to transform America and put us on a path to win the economic competition of the 21st Century that we face with the rest of the world—particularly with China. As I’ve told Xi Jinping, it is never a good bet to bet against the American people. We’ll create good jobs for millions of Americans, modernizing roads, airports, ports, and waterways all across America. And we’ll do it all to withstand the devastating effects of the climate crisis and promote environmental justice. We’ll build a national network of 500,000 electric vehicle charging stations, begin to replace poisonous lead pipes—so every child—and every American—has clean water to drink at home and at school, provide affordable high-speed internet for every American—urban, suburban, rural, and tribal communities. 4,000 projects have already been announced. And tonight, I’m announcing that this year we will start fixing over 65,000 miles of highway and 1,500 bridges in disrepair. When we use taxpayer dollars to rebuild America – we are going to Buy American: buy American products to support American jobs. The federal government spends about $600 Billion a year to keep the country safe and secure. There’s been a law on the books for almost a century to make sure taxpayers’ dollars support American jobs and businesses. Every Administration says they’ll do it, but we are actually doing it. We will buy American to make sure everything from the deck of an aircraft carrier to the steel on highway guardrails are made in America. But to compete for the best jobs of the future, we also need to level the playing field with China and other competitors. That’s why it is so important to pass the Bipartisan Innovation Act sitting in Congress that will make record investments in emerging technologies and American manufacturing. Let me give you one example of why it’s so important to pass it. If you travel 20 miles east of Columbus, Ohio, you’ll find 1,000 empty acres of land.', metadata={'source': '/Users/sarathyashu/Desktop/Learnings/workbook/data/state_of_the_union.txt', '_id': '1ca9e685-d727-4c89-9ed2-3ae922c40e8c', '_collection_name': 'test_documents'}),\n",
       " Document(page_content='My fellow Americans. Last year COVID-19 kept us apart. This year we are finally together again. Tonight, we meet as Democrats Republicans and Independents. But most importantly as Americans. With a duty to one another to the American people to the Constitution. And with an unwavering resolve that freedom will always triumph over tyranny. Six days ago, Russia’s Vladimir Putin sought to shake the foundations of the free world thinking he could make it bend to his menacing ways. But he badly miscalculated. He thought he could roll into Ukraine and the world would roll over. Instead he met a wall of strength he never imagined. He met the Ukrainian people. From President Zelenskyy to every Ukrainian, their fearlessness, their courage, their determination, inspires the world. Groups of citizens blocking tanks with their bodies. Everyone from students to retirees teachers turned soldiers defending their homeland. In this struggle as President Zelenskyy said in his speech to the European Parliament “Light will win over darkness.” The Ukrainian Ambassador to the United States is here tonight. Let each of us here tonight in this Chamber send an unmistakable signal to Ukraine and to the world. Please rise if you are able and show that, Yes, we the United States of America stand with the Ukrainian people. Throughout our history we’ve learned this lesson when dictators do not pay a price for their aggression they cause more chaos.', metadata={'source': '/Users/sarathyashu/Desktop/Learnings/workbook/data/state_of_the_union.txt', '_id': '235f7ca3-3071-4a62-894e-769cb95130ec', '_collection_name': 'test_documents'}),\n",
       " Document(page_content='It’s going to take time. So let us continue to draw inspiration from the iron will of the Ukrainian people. To our fellow Ukrainian Americans who forge a deep bond that connects our two nations we stand with you. Putin may circle Kyiv with tanks, but he will never gain the hearts and souls of the Ukrainian people. He will never extinguish their love of freedom.', metadata={'source': '/Users/sarathyashu/Desktop/Learnings/workbook/data/state_of_the_union.txt', '_id': 'e96b3cc6-aa12-4fc7-bd11-f04eec0cfbc1', '_collection_name': 'test_documents'})]"
      ]
     },
     "execution_count": 37,
     "metadata": {},
     "output_type": "execute_result"
    }
   ],
   "source": [
    "response"
   ]
  },
  {
   "cell_type": "code",
   "execution_count": null,
   "metadata": {},
   "outputs": [],
   "source": []
  }
 ],
 "metadata": {
  "kernelspec": {
   "display_name": "paris_env",
   "language": "python",
   "name": "python3"
  },
  "language_info": {
   "codemirror_mode": {
    "name": "ipython",
    "version": 3
   },
   "file_extension": ".py",
   "mimetype": "text/x-python",
   "name": "python",
   "nbconvert_exporter": "python",
   "pygments_lexer": "ipython3",
   "version": "3.9.13"
  },
  "orig_nbformat": 4,
  "vscode": {
   "interpreter": {
    "hash": "bc7b340f35f967330838a29228494bc0da2b16eb615aeae909bc50b66a5bcf9a"
   }
  }
 },
 "nbformat": 4,
 "nbformat_minor": 2
}
