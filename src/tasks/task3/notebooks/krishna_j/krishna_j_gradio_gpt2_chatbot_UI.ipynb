{
  "nbformat": 4,
  "nbformat_minor": 0,
  "metadata": {
    "colab": {
      "provenance": []
    },
    "kernelspec": {
      "name": "python3",
      "display_name": "Python 3"
    },
    "language_info": {
      "name": "python"
    }
  },
  "cells": [
    {
      "cell_type": "markdown",
      "source": [
        "### Additional add-ons\n",
        "- Add a working llm\n",
        "- Add background image and make it look like UI at [Figma Design](https://www.figma.com/design/vtjTQgBVwDUHmFOB3D3U7Z/Paris-Travel-Companion?node-id=5-77&t=QMQfhEq8tm22C3zC-0)"
      ],
      "metadata": {
        "id": "7mFm9dFdac_Q"
      }
    },
    {
      "cell_type": "code",
      "source": [
        "!pip install transformers gradio"
      ],
      "metadata": {
        "id": "bZC8csyuP_-L"
      },
      "execution_count": null,
      "outputs": []
    },
    {
      "cell_type": "code",
      "source": [
        "import gradio as gr\n",
        "from transformers import AutoModelForCausalLM, AutoTokenizer\n",
        "import os\n",
        "\n",
        "# Load the model and tokenizer from Hugging Face\n",
        "model_name = \"gpt2\"  # You can use any appropriate model from Hugging Face\n",
        "tokenizer = AutoTokenizer.from_pretrained(model_name)\n",
        "model = AutoModelForCausalLM.from_pretrained(model_name)\n",
        "\n",
        "def chat_with_llm(input_text):\n",
        "    # Tokenize the input text\n",
        "    inputs = tokenizer(input_text, return_tensors=\"pt\")\n",
        "    # Generate response\n",
        "    outputs = model.generate(inputs.input_ids, max_length=150, num_return_sequences=1)\n",
        "    # Decode the output and return the response\n",
        "    response = tokenizer.decode(outputs[0], skip_special_tokens=True)\n",
        "    return response\n",
        "\n",
        "def respond(message, chat_history):\n",
        "    response = chat_with_llm(message)\n",
        "    chat_history.append((message, response))\n",
        "    return chat_history\n",
        "\n",
        "# Get absolute path of image file\n",
        "image_path = 'paris-screenshot.png'  # Replace with your image file path\n",
        "absolute_path = os.path.abspath(image_path)\n",
        "\n",
        "css = \"\"\"\n",
        ".gradio-container {\n",
        "    background: url('file=paris-screenshot.png');\n",
        "    background-size: cover;\n",
        "    height: 100vh;\n",
        "    display: flex;\n",
        "    flex-direction: column;\n",
        "    justify-content: center;\n",
        "    align-items: center;\n",
        "}\n",
        "\"\"\"\n",
        "\n",
        "demo = gr.Blocks(css=css)\n",
        "with demo:\n",
        "    gr.Markdown(\"<h1><center>Explore Hidden Gems</center></h1>\")\n",
        "    chatbot = gr.Chatbot(label=\"How can I assist you with your Paris travel plans?\")\n",
        "    msg = gr.Textbox(label=\"Type your message here...\")\n",
        "\n",
        "    def respond(message, chat_history):\n",
        "        response = chat_with_llm(message)\n",
        "        chat_history.append((message, response))\n",
        "        return chat_history\n",
        "\n",
        "    msg.submit(respond, [msg, chatbot], chatbot)\n",
        "\n",
        "# Run the Gradio app with allowed_paths to access the image file\n",
        "demo.launch(allowed_paths=[absolute_path])"
      ],
      "metadata": {
        "colab": {
          "base_uri": "https://localhost:8080/",
          "height": 646
        },
        "id": "znRgmXE6XBTp",
        "outputId": "7088f439-e334-4ee3-a547-fd264d53027e"
      },
      "execution_count": null,
      "outputs": [
        {
          "output_type": "stream",
          "name": "stdout",
          "text": [
            "Setting queue=True in a Colab notebook requires sharing enabled. Setting `share=True` (you can turn this off by setting `share=False` in `launch()` explicitly).\n",
            "\n",
            "Colab notebook detected. To show errors in colab notebook, set debug=True in launch()\n",
            "Running on public URL: https://10ac4106f26e00505c.gradio.live\n",
            "\n",
            "This share link expires in 72 hours. For free permanent hosting and GPU upgrades, run `gradio deploy` from Terminal to deploy to Spaces (https://huggingface.co/spaces)\n"
          ]
        },
        {
          "output_type": "display_data",
          "data": {
            "text/plain": [
              "<IPython.core.display.HTML object>"
            ],
            "text/html": [
              "<div><iframe src=\"https://10ac4106f26e00505c.gradio.live\" width=\"100%\" height=\"500\" allow=\"autoplay; camera; microphone; clipboard-read; clipboard-write;\" frameborder=\"0\" allowfullscreen></iframe></div>"
            ]
          },
          "metadata": {}
        },
        {
          "output_type": "execute_result",
          "data": {
            "text/plain": []
          },
          "metadata": {},
          "execution_count": 20
        }
      ]
    },
    {
      "cell_type": "code",
      "source": [
        "import gradio as gr\n",
        "from transformers import AutoModelForCausalLM, AutoTokenizer\n",
        "import os\n",
        "\n",
        "# Load the model and tokenizer from Hugging Face\n",
        "model_name = \"gpt2\"  # You can use any appropriate model from Hugging Face\n",
        "tokenizer = AutoTokenizer.from_pretrained(model_name)\n",
        "model = AutoModelForCausalLM.from_pretrained(model_name)\n",
        "\n",
        "def chat_with_llm(input_text):\n",
        "    # Tokenize the input text\n",
        "    inputs = tokenizer(input_text, return_tensors=\"pt\")\n",
        "    # Generate response\n",
        "    outputs = model.generate(inputs.input_ids, max_length=150, num_return_sequences=1)\n",
        "    # Decode the output and return the response\n",
        "    response = tokenizer.decode(outputs[0], skip_special_tokens=True)\n",
        "    return response\n",
        "\n",
        "def respond(message, history):\n",
        "    response = chat_with_llm(message)\n",
        "    history.append((message, response))\n",
        "    return history\n",
        "\n",
        "# Get absolute path of image file\n",
        "image_path = 'paris-screenshot.png'  # Replace with your image file path\n",
        "absolute_path = os.path.abspath(image_path)\n",
        "\n",
        "css = \"\"\"\n",
        ".gradio-container {\n",
        "    background: url('file=paris-screenshot.png');\n",
        "    background-size: cover;\n",
        "    height: 100vh;\n",
        "    display: flex;\n",
        "    flex-direction: column;\n",
        "    justify-content: center;\n",
        "    align-items: center;\n",
        "}\n",
        "\"\"\"\n",
        "\n",
        "with gr.Blocks(css=css) as demo:\n",
        "    gr.Markdown(\"<h1><center>Explore Hidden Gems</center></h1>\")\n",
        "    chat = gr.ChatInterface(fn=respond)\n",
        "\n",
        "# Run the Gradio app with allowed_paths to access the image file\n",
        "demo.launch(allowed_paths=[absolute_path])"
      ],
      "metadata": {
        "colab": {
          "base_uri": "https://localhost:8080/",
          "height": 646
        },
        "id": "eZu9e51spALE",
        "outputId": "7e342396-3d1e-41f4-82cc-e518bd1398b3"
      },
      "execution_count": null,
      "outputs": [
        {
          "output_type": "stream",
          "name": "stdout",
          "text": [
            "Setting queue=True in a Colab notebook requires sharing enabled. Setting `share=True` (you can turn this off by setting `share=False` in `launch()` explicitly).\n",
            "\n",
            "Colab notebook detected. To show errors in colab notebook, set debug=True in launch()\n",
            "Running on public URL: https://3bd907d0a3f58b43ba.gradio.live\n",
            "\n",
            "This share link expires in 72 hours. For free permanent hosting and GPU upgrades, run `gradio deploy` from Terminal to deploy to Spaces (https://huggingface.co/spaces)\n"
          ]
        },
        {
          "output_type": "display_data",
          "data": {
            "text/plain": [
              "<IPython.core.display.HTML object>"
            ],
            "text/html": [
              "<div><iframe src=\"https://3bd907d0a3f58b43ba.gradio.live\" width=\"100%\" height=\"500\" allow=\"autoplay; camera; microphone; clipboard-read; clipboard-write;\" frameborder=\"0\" allowfullscreen></iframe></div>"
            ]
          },
          "metadata": {}
        },
        {
          "output_type": "execute_result",
          "data": {
            "text/plain": []
          },
          "metadata": {},
          "execution_count": 22
        }
      ]
    }
  ]
}